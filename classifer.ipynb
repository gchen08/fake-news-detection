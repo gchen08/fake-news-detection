{
 "cells": [
  {
   "cell_type": "code",
   "execution_count": 2,
   "metadata": {},
   "outputs": [],
   "source": [
    "import pandas as pd\n",
    "import numpy as np\n",
    "import os\n",
    "from sklearn.feature_extraction.text import TfidfVectorizer, CountVectorizer\n",
    "from sklearn.feature_extraction.text import HashingVectorizer\n",
    "from sklearn.feature_extraction.text import TfidfTransformer\n",
    "from sklearn.decomposition import NMF, LatentDirichletAllocation\n",
    "from xgboost import XGBClassifier\n",
    "from sklearn.metrics import accuracy_score, confusion_matrix, classification_report\n",
    "from sklearn.ensemble import RandomForestClassifier\n",
    "from sklearn.naive_bayes import MultinomialNB\n",
    "from sklearn import linear_model\n",
    "import matplotlib.pyplot as plt\n",
    "from scipy import sparse"
   ]
  },
  {
   "cell_type": "code",
   "execution_count": 3,
   "metadata": {},
   "outputs": [],
   "source": [
    "label = pd.read_csv(\"label.csv\")\n",
    "data = sparse.load_npz(\"tf_idf.npz\")\n",
    "\n",
    "ratio = .7\n",
    "thr = int(len(label) * ratio)\n",
    "\n",
    "train_label, train_set = label[: thr].values, data[: thr]\n",
    "test_label, test_set = label[thr:].values, data[thr:]"
   ]
  },
  {
   "cell_type": "code",
   "execution_count": 6,
   "metadata": {},
   "outputs": [],
   "source": [
    "logistic = linear_model.LogisticRegression()\n",
    "logr= logistic.fit(train_set,train_label.ravel())"
   ]
  },
  {
   "cell_type": "code",
   "execution_count": 9,
   "metadata": {},
   "outputs": [
    {
     "data": {
      "text/plain": [
       "0.9854716035888327"
      ]
     },
     "execution_count": 9,
     "metadata": {},
     "output_type": "execute_result"
    }
   ],
   "source": [
    "logr.score(test_set,test_label.ravel())"
   ]
  },
  {
   "cell_type": "code",
   "execution_count": 10,
   "metadata": {},
   "outputs": [
    {
     "name": "stdout",
     "output_type": "stream",
     "text": [
      "[[ 2057   315]\n",
      " [    4 19581]]\n"
     ]
    },
    {
     "data": {
      "image/png": "[encoded data removed]",
      "text/plain": [
       "<Figure size 288x288 with 2 Axes>"
      ]
     },
     "metadata": {
      "needs_background": "light"
     },
     "output_type": "display_data"
    }
   ],
   "source": [
    "pred = logr.predict(test_set)\n",
    "labels = ['x', 'y']\n",
    "cm = confusion_matrix(test_label, pred)\n",
    "print(cm)\n",
    "plt.matshow(cm)\n",
    "plt.colorbar()\n",
    "plt.show()"
   ]
  },
  {
   "cell_type": "code",
   "execution_count": 12,
   "metadata": {},
   "outputs": [
    {
     "name": "stdout",
     "output_type": "stream",
     "text": [
      "              precision    recall  f1-score   support\n",
      "\n",
      "       False       1.00      0.87      0.93      2372\n",
      "        True       0.98      1.00      0.99     19585\n",
      "\n",
      "   micro avg       0.99      0.99      0.99     21957\n",
      "   macro avg       0.99      0.93      0.96     21957\n",
      "weighted avg       0.99      0.99      0.99     21957\n",
      "\n"
     ]
    }
   ],
   "source": [
    "print(classification_report(test_label, pred))"
   ]
  },
  {
   "cell_type": "code",
   "execution_count": 13,
   "metadata": {},
   "outputs": [
    {
     "data": {
      "text/plain": [
       "0.9568247028282553"
      ]
     },
     "execution_count": 13,
     "metadata": {},
     "output_type": "execute_result"
    }
   ],
   "source": [
    "mnb = MultinomialNB()\n",
    "mnb.fit(train_set,train_label)\n",
    "mnb.score(test_set,test_label)"
   ]
  },
  {
   "cell_type": "code",
   "execution_count": 31,
   "metadata": {},
   "outputs": [
    {
     "name": "stdout",
     "output_type": "stream",
     "text": [
      "[[ 1424   948]\n",
      " [    0 19585]]\n"
     ]
    },
    {
     "data": {
      "image/png": "[encoded data removed]",
      "text/plain": [
       "<Figure size 288x288 with 2 Axes>"
      ]
     },
     "metadata": {
      "needs_background": "light"
     },
     "output_type": "display_data"
    },
    {
     "name": "stdout",
     "output_type": "stream",
     "text": [
      "              precision    recall  f1-score   support\n",
      "\n",
      "       False       1.00      0.60      0.75      2372\n",
      "        True       0.95      1.00      0.98     19585\n",
      "\n",
      "   micro avg       0.96      0.96      0.96     21957\n",
      "   macro avg       0.98      0.80      0.86     21957\n",
      "weighted avg       0.96      0.96      0.95     21957\n",
      "\n"
     ]
    }
   ],
   "source": [
    "pred = mnb.predict(test_set)\n",
    "labels = ['x', 'y']\n",
    "cm = confusion_matrix(test_label, pred)\n",
    "print(cm)\n",
    "plt.matshow(cm)\n",
    "plt.colorbar()\n",
    "plt.show()\n",
    "print(classification_report(test_label, pred))"
   ]
  },
  {
   "cell_type": "code",
   "execution_count": 15,
   "metadata": {
    "scrolled": true
   },
   "outputs": [
    {
     "name": "stdout",
     "output_type": "stream",
     "text": [
      "              precision    recall  f1-score   support\n",
      "\n",
      "       False       1.00      0.87      0.93      2372\n",
      "        True       0.98      1.00      0.99     19585\n",
      "\n",
      "   micro avg       0.99      0.99      0.99     21957\n",
      "   macro avg       0.99      0.93      0.96     21957\n",
      "weighted avg       0.99      0.99      0.99     21957\n",
      "\n"
     ]
    }
   ],
   "source": [
    "print(classification_report(test_label, pred))"
   ]
  },
  {
   "cell_type": "code",
   "execution_count": 28,
   "metadata": {},
   "outputs": [
    {
     "name": "stderr",
     "output_type": "stream",
     "text": [
      "C:\\Users\\Gong\\Anaconda3\\lib\\site-packages\\sklearn\\ensemble\\forest.py:248: FutureWarning: The default value of n_estimators will change from 10 in version 0.20 to 100 in 0.22.\n",
      "  \"10 in version 0.20 to 100 in 0.22.\", FutureWarning)\n"
     ]
    },
    {
     "data": {
      "text/plain": [
       "0.8925171926948126"
      ]
     },
     "execution_count": 28,
     "metadata": {},
     "output_type": "execute_result"
    }
   ],
   "source": [
    "clf = RandomForestClassifier(max_depth=3, random_state=0)\n",
    "clf.fit(train_set,train_label.ravel())\n",
    "clf.score(test_set,test_label.ravel())"
   ]
  },
  {
   "cell_type": "code",
   "execution_count": 30,
   "metadata": {},
   "outputs": [
    {
     "name": "stdout",
     "output_type": "stream",
     "text": [
      "              precision    recall  f1-score   support\n",
      "\n",
      "       False       1.00      0.01      0.01      2372\n",
      "        True       0.89      1.00      0.94     19585\n",
      "\n",
      "   micro avg       0.89      0.89      0.89     21957\n",
      "   macro avg       0.95      0.50      0.48     21957\n",
      "weighted avg       0.90      0.89      0.84     21957\n",
      "\n"
     ]
    }
   ],
   "source": [
    "pred = clf.predict(test_set)\n",
    "print(classification_report(test_label, pred))"
   ]
  },
  {
   "cell_type": "code",
   "execution_count": 7,
   "metadata": {},
   "outputs": [
    {
     "name": "stdout",
     "output_type": "stream",
     "text": [
      "Accuracy: 95.91%\n"
     ]
    }
   ],
   "source": [
    "model = XGBClassifier(scale_pos_weight=.3)\n",
    "model.fit(train_set, train_label.ravel())\n",
    "y_pred = model.predict(test_set)\n",
    "predictions = [round(value) for value in y_pred]\n",
    "accuracy = accuracy_score(test_label, predictions)\n",
    "print(\"Accuracy: %.2f%%\" % (accuracy * 100.0))"
   ]
  },
  {
   "cell_type": "code",
   "execution_count": 27,
   "metadata": {},
   "outputs": [
    {
     "name": "stdout",
     "output_type": "stream",
     "text": [
      "              precision    recall  f1-score   support\n",
      "\n",
      "       False       0.99      0.65      0.78      2372\n",
      "        True       0.96      1.00      0.98     19585\n",
      "\n",
      "   micro avg       0.96      0.96      0.96     21957\n",
      "   macro avg       0.97      0.82      0.88     21957\n",
      "weighted avg       0.96      0.96      0.96     21957\n",
      "\n"
     ]
    }
   ],
   "source": [
    "print(classification_report(test_label, y_pred))"
   ]
  },
  {
   "cell_type": "code",
   "execution_count": 5,
   "metadata": {},
   "outputs": [
    {
     "data": {
      "text/plain": [
       "topic  label\n",
       "政治     False     2197\n",
       "       True      6500\n",
       "生活     False      691\n",
       "       True     32500\n",
       "社会     False     4304\n",
       "       True     13000\n",
       "经济     False      998\n",
       "       True     13000\n",
       "Name: label, dtype: int64"
      ]
     },
     "execution_count": 5,
     "metadata": {},
     "output_type": "execute_result"
    }
   ],
   "source": [
    "tot_df = pd.read_csv(\"data\\\\all_news.csv\", encoding=\"utf-8\")\n",
    "tot_df.groupby([\"topic\", \"label\"])[\"label\"].count()"
   ]
  }
 ],
 "metadata": {
  "kernelspec": {
   "display_name": "Python 3",
   "language": "python",
   "name": "python3"
  },
  "language_info": {
   "codemirror_mode": {
    "name": "ipython",
    "version": 3
   },
   "file_extension": ".py",
   "mimetype": "text/x-python",
   "name": "python",
   "nbconvert_exporter": "python",
   "pygments_lexer": "ipython3",
   "version": "3.6.7"
  }
 },
 "nbformat": 4,
 "nbformat_minor": 2
}
